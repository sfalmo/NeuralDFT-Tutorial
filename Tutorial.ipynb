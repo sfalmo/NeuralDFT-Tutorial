{
 "cells": [
  {
   "cell_type": "markdown",
   "id": "c2f906a9-ddd2-4273-9ec0-21922448fde2",
   "metadata": {},
   "source": [
    "# Neural functional theory for inhomogeneous fluids - Tutorial\n",
    "\n",
    "This material provides a pedagogical introduction to the concepts and methods presented in\n",
    "\n",
    "**Neural functional theory of inhomogeneous fluids: Fundamentals and applications**  \n",
    "Florian Sammüller, Sophie Hermann, Daniel de las Heras, and Matthias Schmidt (2023); [arxiv:2307.04539](https://arxiv.org/abs/2307.04539).\n",
    "\n",
    "We show how the physics of simple fluids can be described via **many-body simulations** and **classical density functional theory** (DFT) and how the two approaches can be combined with the help of machine learning techniques to a **neural functional theory**.\n",
    "Compared to the above publication, we take a step back and consider here a one-dimensional system of hard rods.\n",
    "We demonstrate for this simple model fluid in the following the central methods of the different approaches and provide hands-on code examples and exercises.\n",
    "Besides the theoretical overview given here, a more in-depth account of the physical and methodological background can be found in the accompanying manuscript:\n",
    "\n",
    "**Why neural functionals suit statistical mechanics**  \n",
    "Florian Sammüller, Sophie Hermann, and Matthias Schmidt (2023)."
   ]
  },
  {
   "cell_type": "markdown",
   "id": "d5c7c825-6a06-42ca-8866-46ad0b316303",
   "metadata": {},
   "source": [
    "## Part 1: Many-body simulations\n",
    "\n",
    "Many-body simulations have long become a standard tool for the investigation of classical fluids.\n",
    "Conceptually, they offer a rather straightforward way to predict the behavior of a fluid from a microscopic description, i.e. by specifying the interactions of its constituent particles.\n",
    "This comes often comes at the significant expense of computational resources.\n",
    "\n",
    "In the following, we focus on Monte Carlo methods for the description of equilibrium systems.\n",
    "Specifically, we choose the grand ensemble where the temperature $T$ and the chemical potential $\\mu$ are kept fixed (we also specify the length $L$ of our one-dimensional domain).\n",
    "The statistical mechanics of such a system is then given as follows:"
   ]
  },
  {
   "cell_type": "code",
   "execution_count": null,
   "id": "9a6e2c09-43f8-4a46-b587-10c70e4a2aee",
   "metadata": {},
   "outputs": [],
   "source": []
  }
 ],
 "metadata": {
  "kernelspec": {
   "display_name": "Julia 1.9.3",
   "language": "julia",
   "name": "julia-1.9"
  },
  "language_info": {
   "file_extension": ".jl",
   "mimetype": "application/julia",
   "name": "julia",
   "version": "1.9.3"
  }
 },
 "nbformat": 4,
 "nbformat_minor": 5
}
