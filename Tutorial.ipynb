{
 "cells": [
  {
   "cell_type": "markdown",
   "id": "c2f906a9-ddd2-4273-9ec0-21922448fde2",
   "metadata": {},
   "source": [
    "# Neural functional theory for inhomogeneous fluids &ndash; Tutorial\n",
    "\n",
    "This material provides a pedagogical introduction to the concepts and methods presented in\n",
    "\n",
    "**Neural functional theory of inhomogeneous fluids: Fundamentals and applications**  \n",
    "Florian Sammüller, Sophie Hermann, Daniel de las Heras, and Matthias Schmidt (2023); [arXiv:2307.04539](https://arxiv.org/abs/2307.04539).\n",
    "\n",
    "We show how the physics of simple fluids can be described via **many-body simulations** and **classical density functional theory** (DFT) and how the two approaches can be combined with the help of machine learning techniques to a **neural functional theory**.\n",
    "Compared to the above publication, we take a step back and consider here a one-dimensional system of hard rods.\n",
    "We demonstrate for this simple model fluid the central methods of the different approaches and provide hands-on code examples and exercises in the programming language Julia.\n",
    "Besides the theoretical overview given here, a more in-depth account of the physical and methodological background can be found in the accompanying manuscript:\n",
    "\n",
    "**Why neural functionals suit statistical mechanics**  \n",
    "Florian Sammüller, Sophie Hermann, and Matthias Schmidt (2023)."
   ]
  },
  {
   "cell_type": "markdown",
   "id": "b51d1d87-381d-4d2c-ad95-4517aa0dbb96",
   "metadata": {},
   "source": [
    "## Part 1: Many-body simulations"
   ]
  },
  {
   "cell_type": "markdown",
   "id": "d5c7c825-6a06-42ca-8866-46ad0b316303",
   "metadata": {},
   "source": [
    "Many-body simulations have long become a standard tool for the investigation of classical fluids.\n",
    "Conceptually, they offer a rather straightforward way to predict the behavior of a fluid from a microscopic description, i.e. by specifying the interactions of its constituent particles.\n",
    "However, simulations often come with a significant demand of computational resources.\n",
    "\n",
    "In the following, we focus on Monte Carlo methods for the description of equilibrium systems.\n",
    "Specifically, we choose the grand ensemble where the temperature $T$ and the chemical potential $\\mu$ are kept fixed (we also specify the length $L$ of the one-dimensional domain).\n",
    "The statistical mechanics of such a system is then determined by the equilibrium distribution function $\\psi(x^{(N)}) \\sim \\exp(-\\beta (U(x^{(N)}) - \\mu N)))$ where $\\beta = 1 / (k_B T)$ with the Boltzmann constant $k_B$ and $U(x^{(N)}) = u(x^{(N)}) + \\sum_{i=1}^N V_\\mathrm{ext}(x_i)$ is the potential energy of a given microstate $x^{(N)} = (x_1, x_2, \\dots, x_N)$.\n",
    "The latter consists of a contribution due to an external potential $V_\\mathrm{ext}(x)$, and of the internal energy $u(x^{(N)})$.\n",
    "If the particles in the fluid possess pairwise interactions, $u(x^{(N)}) = \\sum_{i=1}^N \\sum_{j>i}^N \\phi(|x_j - x_i|)$, where $\\phi(d)$ is the interaction potential for a given distance $d$ of two particles.\n",
    "\n",
    "In the grand canonical Monte Carlo (GCMC) method, microstates are generated according to their known equilibrium distribution.\n",
    "This is done iteratively by mutating a given state $A$ into a new state $B$ with a probability such that a given distribution $P$ of states is kept intact.\n",
    "The mutation happens in two stages: a trial transition selects a new state $B$, and a criterion $\\mathrm{acc}(A \\rightarrow B)$ determines if the new state $B$ shall be accepted or if the system shall be reset to the previous state $A$.\n",
    "Specifically, a valid choice for this acceptance probability is the Metropolis criterion $\\mathrm{acc}(A \\rightarrow B) = \\min(1, P(B) / P(A))$.\n",
    "\n",
    "We now apply this scheme to the grand ensemble.\n",
    "There are three possible trial transitions: i) a particle is moved to a new position, ii) a particle is inserted, iii) a particle is removed.\n",
    "By identifying the goal distribution of states $P$ with the grand canonical equilibrium distribution $\\psi$, one arrives straightforwardly at the acceptance criterion\n",
    "$$\n",
    "\\mathrm{acc}(x^{(N)} \\rightarrow \\tilde{x}^{(N)}) = \\min\\left(1, \\exp[-\\beta(U(\\tilde{x}^{(N)}) - U(x^{(N)}))]\\right)\n",
    "$$\n",
    "for moving a particle and changing the initial microstate $x^{(N)}$ to the new configuration $\\tilde{x}^{(N)}$."
   ]
  },
  {
   "cell_type": "markdown",
   "id": "0e533c20-87cc-4266-9d80-126eab794a6d",
   "metadata": {},
   "source": [
    "Let us now illustrate this trial move with code.\n",
    "For simplification, we provide some utilities for common tasks in simulation.jl, e.g. `calc_particle_interaction` for the calculation of the energy and `pbc!` for applying periodic boundary conditions."
   ]
  },
  {
   "cell_type": "code",
   "execution_count": null,
   "id": "1ace21bf-2865-4135-9a50-f6f16f0b5fdf",
   "metadata": {},
   "outputs": [],
   "source": [
    "include(\"simulation.jl\");"
   ]
  },
  {
   "cell_type": "markdown",
   "id": "edc3884e-4fb0-4110-9394-33556d2b846f",
   "metadata": {},
   "source": [
    "Now we can write a function which performs trial moves and accepts them according to the above Metropolis criterion:"
   ]
  },
  {
   "cell_type": "code",
   "execution_count": null,
   "id": "9a6e2c09-43f8-4a46-b587-10c70e4a2aee",
   "metadata": {},
   "outputs": [],
   "source": [
    "function trial_move(system; Δxmax=0.1)\n",
    "    if isempty(system.particles)\n",
    "        return\n",
    "    end\n",
    "    i = rand(1:length(system.particles))  # Select random particle i\n",
    "    xbefore = system.particles[i]  # Save its initial position\n",
    "    Ebefore = calc_particle_interaction(system, i)  # Calculate the initial potential energy of particle i\n",
    "    system.particles[i] += Δxmax * (2 * rand() - 1)\n",
    "    pbc!(system, i)  # Apply periodic boundary conditions (this places the particle back in the box if it has moved outside of the valid range)\n",
    "    Eafter = calc_particle_interaction(system, i)  # Calculate the potential energy of particle i after it has been moved\n",
    "    ΔE = Eafter - Ebefore\n",
    "    if rand() > exp(-ΔE)\n",
    "        system.particles[i] = xbefore  # Trial move rejected. Reset particle to previous state\n",
    "    end\n",
    "end"
   ]
  },
  {
   "cell_type": "markdown",
   "id": "b3b0d018-77c0-4807-8321-2b43c9bc4ab3",
   "metadata": {},
   "source": [
    "As the particle number can fluctuate in the grand ensemble, there are additional transition which add and remove particles at random throughout the simulation.\n",
    "The acceptance probabilities of these transitions can be derived by considering particle exchanges of the system with a virtual reservoir.\n",
    "We spare this derivation here and only give the results\n",
    "$$\n",
    "\\mathrm{acc}(x^{(N)} \\rightarrow x^{(N+1)}) = \\min\\left(1, \\frac{L}{N+1} \\exp[\\beta(\\mu - U(x^{(N+1)}) + U(x^{(N)}))]\\right),\n",
    "$$\n",
    "$$\n",
    "\\mathrm{acc}(x^{(N)} \\rightarrow x^{(N+1)}) = \\min\\left(1, \\frac{N}{L} \\exp[-\\beta(\\mu + U(x^{(N-1)}) - U(x^{(N)}))]\\right).\n",
    "$$\n",
    "\n",
    "These trial transitions are already implemented as `trial_insert` and `trial_delete` in simulation.jl."
   ]
  },
  {
   "cell_type": "markdown",
   "id": "4ba85bee-82a9-46c9-92b8-c71d381313e4",
   "metadata": {},
   "source": [
    "Finally, we can write a simulation loop which consists of an equilibration stage and a stage in which measurements take place.\n",
    "For each simulation step, we perform a sweep over a fixed number of trial transitions which are chosen at random."
   ]
  },
  {
   "cell_type": "code",
   "execution_count": null,
   "id": "4106fd69-45aa-4b93-86cd-4e0ec5263030",
   "metadata": {},
   "outputs": [],
   "source": [
    "function sweep(system::System; transitions=10, inout_probability=0.2)\n",
    "    for _ in 1:transitions\n",
    "        if rand() < inout_probability\n",
    "            rand() < 0.5 ? trial_insert(system) : trial_delete(system)\n",
    "        else\n",
    "            trial_move(system)\n",
    "        end\n",
    "    end\n",
    "end\n",
    "\n",
    "function simulate(L::Number, μ::Number, Vext::Function, ϕ::Function; equilibrate_steps=100000, production_steps=1000000, sweep_transitions=10)\n",
    "    system = System(L, μ, Vext, ϕ)\n",
    "    histograms = Histograms(system)\n",
    "    for _ in 1:equilibrate_steps\n",
    "        sweep(system; transitions=sweep_transitions)\n",
    "    end\n",
    "    for _ in 1:production_steps\n",
    "        sweep(system; transitions=sweep_transitions)\n",
    "        sample(system, histograms)\n",
    "    end\n",
    "    get_results(system, histograms)\n",
    "end"
   ]
  },
  {
   "cell_type": "markdown",
   "id": "07f09462-9dbf-4a50-b52e-17677bb4e593",
   "metadata": {},
   "source": [
    "Equilibrium averages such as the one-body density profile $\\rho(x) = \\langle \\sum_{i=1}^N \\delta(x - x_i) \\rangle$ are obtained by sampling.\n",
    "For this, the particle configuration is recorded in a position-resolved histogram, which yields the desired average after normalization:"
   ]
  },
  {
   "cell_type": "code",
   "execution_count": null,
   "id": "045b3637-a940-4b7f-a9b6-8637a89ba318",
   "metadata": {},
   "outputs": [],
   "source": [
    "function sample(system::System, histograms::Histograms)\n",
    "    for x in system.particles\n",
    "        bin = ceil(Int, x / L * histograms.bins)\n",
    "        histograms.ρ[bin] += 1\n",
    "    end\n",
    "    histograms.count += 1\n",
    "end"
   ]
  },
  {
   "cell_type": "markdown",
   "id": "87943c55-9b0b-4e0c-830f-c87151d02bc7",
   "metadata": {},
   "source": [
    "Let us now do some simulations of the hard rod fluid to illustrate the usage of the code.\n",
    "We just pass the length $L$ of our system, the chemical potential $\\mu$, the external potential $V_\\mathrm{ext}(x)$ and the pair interaction potential $\\phi(r)$ to the `simulate` function.\n",
    "As a simple test case, we choose confinement between hard walls in which $V_\\mathrm{ext} = \\infty$."
   ]
  },
  {
   "cell_type": "code",
   "execution_count": null,
   "id": "5b837897-a9e7-4269-86a4-ae18abf709e5",
   "metadata": {},
   "outputs": [],
   "source": [
    "using Plots\n",
    "\n",
    "L = 10.0\n",
    "μ = 2.0\n",
    "Vext(x) = x < 0.5 || x > L-0.5 ? Inf : 0  # Hard walls at the boundaries\n",
    "ϕ(r) = r < 1.0 ? Inf : 0  # Hard core repulsion\n",
    "\n",
    "# Depending on the number of steps, this might take a few seconds\n",
    "result = simulate(L, μ, Vext, ϕ; equilibrate_steps=100000, production_steps=1000000, sweep_transitions=10)\n",
    "\n",
    "plot(result[:x], result[:ρ], label=\"ρ\")"
   ]
  },
  {
   "cell_type": "markdown",
   "id": "e29cb3b6-554b-43da-a8a8-36c21d5e4520",
   "metadata": {},
   "source": [
    "## Part 2: Classical density functional theory"
   ]
  },
  {
   "cell_type": "markdown",
   "id": "e14592a2-c327-4537-a29d-b1a0960ab6a8",
   "metadata": {},
   "source": [
    "Classical DFT is founded on a minimization principle of the grand potential $\\Omega[\\rho]$, which can be expressed as a functional of the one-body density profile $\\rho(x)$.\n",
    "By carrying out the functional derivative $\\delta \\Omega[\\rho] / \\delta \\rho(x)$ and demanding that it vanishes at the equilibrium density, one arrives at the Euler-Lagrange equation of DFT,\n",
    "$$\n",
    "c_1(x) = \\ln\\rho(x) + \\beta (V_\\mathrm{ext}(x) - \\mu),\n",
    "$$\n",
    "where $c_1(x)$ is the one-body direct correlation function.\n",
    "This rather abstract object attains a more fundamental meaning in classical DFT as it arises as a functional derivative, $c_1(x) = - \\delta \\beta F_\\mathrm{exc}[\\rho] / \\delta \\rho(x)$.\n",
    "Here, $F_\\mathrm{exc}[\\rho]$ constitute the nontrivial part of $\\Omega[\\rho]$ which captures the effects of the internal interactions, and it is hence often called the \"excess\" (i.e. beyond ideal gas) part.\n",
    "As an immediate consequence, $c_1(x; [\\rho])$ is also a functional of the density, which is made explicit by the bracket notation.\n",
    "\n",
    "By rearranging the above equation to\n",
    "$$\n",
    "\\rho(x) = \\exp(-\\beta(V_\\mathrm{ext}(x) - \\mu) + c_1(x; [\\rho])),\n",
    "$$\n",
    "we can reveal its use in actual DFT applications.\n",
    "Given a suitable expression for $c_1(x; [\\rho])$ (which one has to obtain somehow for a given type of model fluid), a self-consistent iteration scheme can be used to solve for $\\rho(x)$.\n",
    "One such method is the Picard iteration with mixing, in which the iteration is of the form\n",
    "$$\n",
    "\\rho(x) \\leftarrow (1 - \\alpha) \\rho(x) + \\alpha \\rho_\\mathrm{EL}(x),\n",
    "$$\n",
    "where $\\alpha$ is a mixing parameter and $\\rho_\\mathrm{EL}(x)$ is the right hand side of the rearranged Euler-Lagrange equation.\n",
    "\n",
    "A simple but complete DFT program proceeds as follows:\n",
    "The system parameters $T$ and $\\mu$, an external potential $V_\\mathrm{ext}(x)$ and a functional form of $c_1(x; [\\rho])$ are given and a numerical (i.e. discretized) density profile is initialized, e.g. with a constant value.\n",
    "Then the iteration is started and Picard steps are preformed which update $\\rho(x)$ as illustrated above.\n",
    "If the changes between iteration steps fall below a predefined tolerance, the iteration is stopped and the converged self-consistent densiy profile is obtained as a result.\n",
    "We give an example of such a program in the following:"
   ]
  },
  {
   "cell_type": "code",
   "execution_count": null,
   "id": "0609e6a2-6ff2-43a3-9de0-c2a5375b6ba2",
   "metadata": {},
   "outputs": [],
   "source": [
    "function minimize(L::Number, μ::Number, Vext::Function, get_c1::Function; α::Number=0.05, tol::Number=1e-8, maxiter::Int=10000)\n",
    "    dx = 0.01\n",
    "    xs = collect(dx/2:dx:L)  # Construct the numerical grid\n",
    "    Vext = Vext.(xs)  # Evaluate the external potential on the grid\n",
    "    infiniteVext = isinf.(Vext)  # Check where Vext is infinite to set ρ to 0 there\n",
    "    ρ, ρEL = zero(xs), zero(xs)  # Preallocate the density profiles for iteration\n",
    "    fill!(ρ, 0.5)  # Start with a bulk density of 0.5\n",
    "    c1 = get_c1(xs)  # Obtain the c1 functional as given by a suitable approximation\n",
    "    i = 0\n",
    "    while true\n",
    "        ρEL .= exp.(μ .- Vext .+ c1(ρ))  # Evaluate the RHS of the Euler-Lagrange equation\n",
    "        ρ .= (1 - α) .* ρ .+ α .* ρEL  # Update ρ with a Picard iteration step\n",
    "        ρ[infiniteVext] .= 0  # Set ρ to 0 where Vext = ∞\n",
    "        clamp!(ρ, 0, Inf)  # Make sure that ρ does not become negative\n",
    "        Δρmax = norm((ρ - ρEL)[.!infiniteVext], Inf)  # Calculate the remaining discrepancy to check convergence\n",
    "        i += 1\n",
    "        if Δρmax < tol\n",
    "            break\n",
    "        end\n",
    "        if !isfinite(Δρmax) || i >= maxiter\n",
    "            println(\"Did not converge (step: $(i), ‖Δρ‖: $(Δρmax))\")\n",
    "            return nothing\n",
    "        end\n",
    "    end\n",
    "    Dict(:x => xs, :ρ => ρ)\n",
    "end"
   ]
  },
  {
   "cell_type": "markdown",
   "id": "7e1bcfc2-a09e-492a-bc5d-6b497a7fd7b1",
   "metadata": {},
   "source": [
    "The way in which $c_1(x; [\\rho])$ appears seems innocuous at first.\n",
    "However, the crux of DFT is finding a suitable functional expression for $c_1(x; [\\rho])$ (or equivalently for $F_\\mathrm{exc}[\\rho]$) for a given fluid model, and much of the ongoing research deals with this problem.\n",
    "In Part 3, we will show how to efficiently use neural networks to capture such a nontrivial functional mapping.\n",
    "\n",
    "In the following, we proceed analytically as the focus lies on the hard rod system, which is the only system at present where the exact excess free energy functional could be found.\n",
    "This success can be traced back to the purely geometrical nature of the problem.\n",
    "A geometrical perspective to the construction of excess free energy functionals is also possible for the three-dimensional hard sphere system by using fundamental measure theory, although the result is no longer exact.\n",
    "\n",
    "\n",
    "Returning to the exact hard rod result, the excess free energy can be expressed as \n",
    "$$\n",
    "\\beta F_\\mathrm{exc} = \\int \\mathrm{d}x \\Phi(n_0(x), n_1(x))\n",
    "$$\n",
    "where the free energy density has the form $\\Phi(n_0(x), n_1(x)) = - n_0(x) \\ln(1 - n_1(x))$.\n",
    "The functions $n_0(x)$ and $n_1(x)$ are *weighted* densities which arise via convolutions with the weight functions $\\omega_0(x) = (\\delta(x-R) + \\delta(x+R)) / 2$ and $\\omega_1(x) = \\Theta(R - |x|)$, i.e. $n_\\alpha(x) = (\\omega_\\alpha \\star \\rho)(x)$.\n",
    "From this excess free energy functional, one can easily obtain\n",
    "$$\n",
    "c_1(x; [\\rho]) = - \\sum_{\\alpha=0,1} \\left(\\omega_\\alpha \\star \\frac{\\partial \\Phi}{\\partial n_\\alpha}\\right)(x)\n",
    "$$\n",
    "as the result for the one-body direct correlation function by functional differentiation.\n",
    "\n",
    "We implement a function that constructs the Percus $c_1(x; [\\rho])$ for the given numerical grid in the following.\n",
    "As assistance, we provide the function `conv_fft` to evaluate convolutions efficiently in Fourier space and `get_weights_Percus` to obtain $\\omega_\\alpha(x)$ on the numerical grid in the file dft.jl."
   ]
  },
  {
   "cell_type": "code",
   "execution_count": null,
   "id": "90f54d39-1a71-4bfe-aea5-381f6b7f0d93",
   "metadata": {},
   "outputs": [],
   "source": [
    "include(\"dft.jl\")\n",
    "\n",
    "function get_c1_Percus(xs)\n",
    "    ω0, ω1 = get_weights_Percus(xs)\n",
    "    n0, n1 = zero(xs), zero(xs)\n",
    "    ϕ0, ϕ1 = zero(xs), zero(xs)\n",
    "    conv = (f, g) -> conv_fft(f, g, xs[2] - xs[1]; rfftP=plan_rfft(xs))\n",
    "    c1 = zero(xs)\n",
    "    function (ρ)\n",
    "        c1 .= 0\n",
    "        n0 .= conv(ρ, ω0)\n",
    "        n1 .= conv(ρ, ω1)\n",
    "        ϕ0 .= -log.(1 .- n1)\n",
    "        ϕ1 .= n0 ./ (1 .- n1)\n",
    "        c1 .-= conv(ϕ0, ω0)\n",
    "        c1 .-= conv(ϕ1, ω1)\n",
    "        c1\n",
    "    end\n",
    "end"
   ]
  },
  {
   "cell_type": "markdown",
   "id": "708a01d4-ac2d-459b-8f25-91bcf39b69c1",
   "metadata": {},
   "source": [
    "Now we can perform some DFT minimizations to see if the results match the simulations."
   ]
  },
  {
   "cell_type": "code",
   "execution_count": null,
   "id": "1d9629b4-a355-4485-a492-cfce12ed0b82",
   "metadata": {},
   "outputs": [],
   "source": [
    "using Plots\n",
    "\n",
    "L = 10.0\n",
    "μ = 2.0\n",
    "Vext(x) = x < 0.5 || x > L-0.5 ? Inf : 0\n",
    "get_c1 = get_c1_Percus\n",
    "\n",
    "result = minimize(L, μ, Vext, get_c1)\n",
    "\n",
    "p = plot(result[:x], result[:ρ], label=\"ρ\")\n",
    "display(p)"
   ]
  },
  {
   "cell_type": "markdown",
   "id": "4e5e58a0-e8b9-4ed4-8b2e-ac99a5074609",
   "metadata": {},
   "source": [
    "As we can check by comparing simulation and DFT results for the same choices of $L$, $\\mu$ and $V_\\mathrm{ext}(x)$, the methods yield consistent density profiles.\n",
    "However, it is obvious that both methods have substantial (and quite contrary) restrictions:\n",
    "- The simulation data is noisy, which can only be improved with longer simulation runs. This quickly becomes prohibitively expensive, in particular if many individual simulations have to be performed for different system parameters. However, one is free to change the type of considered fluid by simply modifying the form of the internal interactions.\n",
    "- The DFT calculation is fast and does not suffer from noisy results, thus enabling vast and efficient parameter studies. The results are exact for the case of hard rods, but as illustrated above, one had to find and implement a suitable density functional in order to capture the internal interactions. For more complex fluids, there is little hope in deriving an exact functional analytically.\n",
    "\n",
    "In the final part of this tutorial, we will combine the advantages of both methods.\n",
    "Using machine learning, we show that it is possible to acquire an accurate and flexible representation of $c_1(x; [\\rho])$ by training a neural network with simulation data.\n",
    "This results in a neural functional, which can be used in the minimization scheme as seen above, but which can also reveal more information about the statistical mechanics of the considered fluid."
   ]
  },
  {
   "cell_type": "markdown",
   "id": "4b885ad7-9bba-409a-9069-a595801b8568",
   "metadata": {},
   "source": [
    "## Part 3: Neural functional theory"
   ]
  },
  {
   "cell_type": "code",
   "execution_count": null,
   "id": "b8bd87c9-b2b8-4ffc-8810-7c3f4db12dc9",
   "metadata": {},
   "outputs": [],
   "source": []
  }
 ],
 "metadata": {
  "kernelspec": {
   "display_name": "Julia 1.9.3",
   "language": "julia",
   "name": "julia-1.9"
  },
  "language_info": {
   "file_extension": ".jl",
   "mimetype": "application/julia",
   "name": "julia",
   "version": "1.9.3"
  }
 },
 "nbformat": 4,
 "nbformat_minor": 5
}
